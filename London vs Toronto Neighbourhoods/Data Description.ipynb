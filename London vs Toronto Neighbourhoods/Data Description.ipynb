{
 "cells": [
  {
   "cell_type": "markdown",
   "metadata": {},
   "source": [
    "# Data Description\n",
    "\n",
    "We require the gro location data of both the cities. we need the postal codes to find the nearby neighbourhoods, boroughs, venues and their most popular venue categories.\n",
    "\n",
    "## London\n",
    "\n",
    "To derive our solution, We scrape our data from https://en.wikipedia.org/wiki/List_of_areas_of_London\n",
    "\n",
    "This wikipedia page has information about all the neighbourhoods, we limit it London.\n",
    "\n",
    "1. *borough* : Name of Neighbourhood\n",
    "2. *town* : Name of borough\n",
    "3. *post_code* : Postal codes for London.\n",
    "\n",
    "This wikipedia page lacks information about the geographical locations. To solve this problem we use ArcGIS API\n",
    "\n",
    "## ArcGIS API\n",
    "we use ArcGIS to get the geo locations of the neighbourhoods of London. The following columns are added to our initial dataset which prepares our data. \n",
    "\n",
    "4. *latitude* : Latitude for Neighbourhood\n",
    "5. *longitude* : Longitude for Neighbourhood\n",
    "\n",
    "## Toronto\n",
    "\n",
    "To derive our solution, We scrape the data from https://en.wikipedia.org/w/index.php?title=List_of_postal_codes_of_Canada:_M&direction=prev&oldid=926287641\n",
    "\n",
    "\n",
    "The JSON file has data about all the neighbourhoods in Canada, we limit to toronto.\n",
    "\n",
    "1. *post_code* : Postal codes for Toronto.\n",
    "2. *borough* : Name of the boroughs\n",
    "3. *Neighbourhood* : Name of Neighbourhood\n",
    "\n",
    "We use data from https://cf-courses-data.s3.us.cloud-object-storage.appdomain.cloud/IBMDeveloperSkillsNetwork-DS0701EN-SkillsNetwork/labs_v1/Geospatial_Coordinates.csv to get the latitudes and logitudes for the postal codes. \n",
    "\n",
    "4. *latitude* : Latitude for Neighbourhood\n",
    "5. *longitude* : Longitude for Neighbourhood\n",
    "\n",
    "## Foursquare API Data\n",
    "\n",
    "We will like knowledge regarding totally different venues in numerous neighbourhoods of that specific borough. so as to realize that info we'll use \"Foursquare\" locational info. Foursquare may be a location knowledge supplier with info regarding all manner of venues and events at intervals a part of interest. Such info includes venue names, locations, menus and even photos. As such, the foursquare location platform are going to be used because the sole knowledge supply since all the expressed needed info are often obtained through the API.\n",
    "\n",
    "After finding the list of neighbourhoods, we then connect to the Foursquare API to gather information about venues inside each and every neighbourhood. For each neighbourhood, we have chosen the radius to be 500 meters.\n",
    "\n",
    "Based on all the knowledge collected for each London and Toronto, we've got spare information to create our model. we have a tendency to cluster the neighbourhoods along supported similar venue classes. we have a tendency to then gift our observations and findings. victimization this information, our stakeholders will take the required call."
   ]
  },
  {
   "cell_type": "code",
   "execution_count": null,
   "metadata": {},
   "outputs": [],
   "source": []
  }
 ],
 "metadata": {
  "kernelspec": {
   "display_name": "Python 3",
   "language": "python",
   "name": "python3"
  },
  "language_info": {
   "codemirror_mode": {
    "name": "ipython",
    "version": 3
   },
   "file_extension": ".py",
   "mimetype": "text/x-python",
   "name": "python",
   "nbconvert_exporter": "python",
   "pygments_lexer": "ipython3",
   "version": "3.8.5"
  }
 },
 "nbformat": 4,
 "nbformat_minor": 4
}
